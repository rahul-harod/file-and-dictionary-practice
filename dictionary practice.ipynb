{
 "cells": [
  {
   "cell_type": "markdown",
   "metadata": {},
   "source": [
    "# dictionary"
   ]
  },
  {
   "cell_type": "code",
   "execution_count": 2,
   "metadata": {},
   "outputs": [
    {
     "name": "stdout",
     "output_type": "stream",
     "text": [
      "{'gold': 33, 'silver': 17, 'bronze': 12}\n",
      "33\n"
     ]
    }
   ],
   "source": [
    "medals={}\n",
    "medals[\"gold\"]=33\n",
    "medals[\"silver\"]=17\n",
    "medals[\"bronze\"]=12\n",
    "print(medals)\n",
    "print(medals[\"gold\"])"
   ]
  },
  {
   "cell_type": "code",
   "execution_count": 3,
   "metadata": {},
   "outputs": [
    {
     "name": "stdout",
     "output_type": "stream",
     "text": [
      "8\n"
     ]
    }
   ],
   "source": [
    "olympics={\"gold\":7,\"silver\":8,'bronze':6}\n",
    "print(olympics[\"silver\"])"
   ]
  },
  {
   "cell_type": "markdown",
   "metadata": {},
   "source": [
    "# dictionary operations"
   ]
  },
  {
   "cell_type": "code",
   "execution_count": 5,
   "metadata": {},
   "outputs": [
    {
     "data": {
      "text/plain": [
       "{'apples': 430, 'bananas': 312, 'oranges': 525}"
      ]
     },
     "execution_count": 5,
     "metadata": {},
     "output_type": "execute_result"
    }
   ],
   "source": [
    "inventory = {'apples': 430, 'bananas': 312, 'oranges': 525, 'pears': 217}\n",
    "\n",
    "del inventory['pears']\n",
    "inventory"
   ]
  },
  {
   "cell_type": "code",
   "execution_count": 6,
   "metadata": {},
   "outputs": [
    {
     "data": {
      "text/plain": [
       "{'Manuel': 4,\n",
       " 'Lochte': 12,\n",
       " 'Adrian': 7,\n",
       " 'Ledecky': 5,\n",
       " 'Dirado': 4,\n",
       " 'Phelps': 28}"
      ]
     },
     "execution_count": 6,
     "metadata": {},
     "output_type": "execute_result"
    }
   ],
   "source": [
    "swimmers = {'Manuel':4, 'Lochte':12, 'Adrian':7, 'Ledecky':5, 'Dirado':4, 'Phelps':23}\n",
    "swimmers[\"Phelps\"]+=5\n",
    "swimmers"
   ]
  },
  {
   "cell_type": "code",
   "execution_count": 7,
   "metadata": {},
   "outputs": [
    {
     "name": "stdout",
     "output_type": "stream",
     "text": [
      "Got key apples which maps to value 430\n",
      "Got key bananas which maps to value 312\n",
      "Got key oranges which maps to value 525\n",
      "Got key pears which maps to value 217\n",
      "['apples', 'bananas', 'oranges', 'pears']\n"
     ]
    }
   ],
   "source": [
    "inventory = {'apples': 430, 'bananas': 312, 'oranges': 525, 'pears': 217}\n",
    "\n",
    "for akey in inventory.keys():     # the order in which we get the keys is not defined\n",
    "    print(\"Got key\", akey, \"which maps to value\", inventory[akey])\n",
    "\n",
    "ks = list(inventory.keys())\n",
    "print(ks)\n"
   ]
  },
  {
   "cell_type": "code",
   "execution_count": 8,
   "metadata": {},
   "outputs": [
    {
     "name": "stdout",
     "output_type": "stream",
     "text": [
      "Got key apples\n",
      "Got key bananas\n",
      "Got key oranges\n",
      "Got key pears\n"
     ]
    }
   ],
   "source": [
    "inventory = {'apples': 430, 'bananas': 312, 'oranges': 525, 'pears': 217}\n",
    "\n",
    "for k in inventory:\n",
    "    print(\"Got key\", k)"
   ]
  },
  {
   "cell_type": "code",
   "execution_count": 9,
   "metadata": {},
   "outputs": [
    {
     "name": "stdout",
     "output_type": "stream",
     "text": [
      "[430, 312, 525, 217]\n",
      "[('apples', 430), ('bananas', 312), ('oranges', 525), ('pears', 217)]\n",
      "Got apples that maps to 430\n",
      "Got bananas that maps to 312\n",
      "Got oranges that maps to 525\n",
      "Got pears that maps to 217\n"
     ]
    }
   ],
   "source": [
    "inventory = {'apples': 430, 'bananas': 312, 'oranges': 525, 'pears': 217}\n",
    "\n",
    "print(list(inventory.values()))\n",
    "print(list(inventory.items()))\n",
    "\n",
    "for k in inventory:\n",
    "    print(\"Got\",k,\"that maps to\",inventory[k])"
   ]
  },
  {
   "cell_type": "code",
   "execution_count": 10,
   "metadata": {},
   "outputs": [
    {
     "name": "stdout",
     "output_type": "stream",
     "text": [
      "True\n",
      "False\n",
      "312\n"
     ]
    }
   ],
   "source": [
    "inventory = {'apples': 430, 'bananas': 312, 'oranges': 525, 'pears': 217}\n",
    "print('apples' in inventory)\n",
    "print('cherries' in inventory)\n",
    "\n",
    "if 'bananas' in inventory:\n",
    "    print(inventory['bananas'])\n",
    "else:\n",
    "    print(\"We have no bananas\")"
   ]
  },
  {
   "cell_type": "code",
   "execution_count": 11,
   "metadata": {},
   "outputs": [
    {
     "name": "stdout",
     "output_type": "stream",
     "text": [
      "430\n",
      "None\n",
      "0\n"
     ]
    }
   ],
   "source": [
    "inventory = {'apples': 430, 'bananas': 312, 'oranges': 525, 'pears': 217}\n",
    "\n",
    "print(inventory.get(\"apples\"))\n",
    "print(inventory.get(\"cherries\"))\n",
    "\n",
    "print(inventory.get(\"cherries\",0))"
   ]
  },
  {
   "cell_type": "code",
   "execution_count": 12,
   "metadata": {},
   "outputs": [
    {
     "name": "stdout",
     "output_type": "stream",
     "text": [
      "43\n"
     ]
    }
   ],
   "source": [
    "total = 0\n",
    "mydict = {\"cat\":12, \"dog\":6, \"elephant\":23, \"bear\":20}\n",
    "for akey in mydict:\n",
    "   if len(akey) > 3:\n",
    "      total = total + mydict[akey]\n",
    "print(total)"
   ]
  },
  {
   "cell_type": "code",
   "execution_count": 15,
   "metadata": {},
   "outputs": [
    {
     "name": "stdout",
     "output_type": "stream",
     "text": [
      "dict_keys(['Shooting', 'Fencing', 'Judo', 'Swimming', 'Diving'])\n"
     ]
    }
   ],
   "source": [
    "\n",
    "medal_events = {'Shooting': 7, 'Fencing': 4, 'Judo': 2, 'Swimming': 3, 'Diving': 2}\n",
    "\n",
    "events=medal_events.keys()\n",
    "print(events)"
   ]
  },
  {
   "cell_type": "markdown",
   "metadata": {},
   "source": [
    "# Aliasing and copying"
   ]
  },
  {
   "cell_type": "code",
   "execution_count": 16,
   "metadata": {},
   "outputs": [
    {
     "name": "stdout",
     "output_type": "stream",
     "text": [
      "True\n"
     ]
    }
   ],
   "source": [
    "opposites = {'up': 'down', 'right': 'wrong', 'true': 'false'}\n",
    "alias = opposites\n",
    "\n",
    "print(alias is opposites)\n",
    "\n",
    "\n"
   ]
  },
  {
   "cell_type": "code",
   "execution_count": 17,
   "metadata": {},
   "outputs": [
    {
     "name": "stdout",
     "output_type": "stream",
     "text": [
      "left\n"
     ]
    }
   ],
   "source": [
    "alias['right'] = 'left'\n",
    "print(opposites['right'])"
   ]
  },
  {
   "cell_type": "markdown",
   "metadata": {},
   "source": [
    "If you want to modify a dictionary and keep a copy of the original, use the dictionary copy method. Since acopy is a copy of the dictionary, changes to it will not effect the original."
   ]
  },
  {
   "cell_type": "code",
   "execution_count": 18,
   "metadata": {},
   "outputs": [
    {
     "name": "stdout",
     "output_type": "stream",
     "text": [
      "left\n"
     ]
    }
   ],
   "source": [
    "acopy = opposites.copy()\n",
    "acopy['right'] = 'abcd'    # does not change opposites\n",
    "print(opposites[\"right\"])"
   ]
  },
  {
   "cell_type": "code",
   "execution_count": 19,
   "metadata": {},
   "outputs": [
    {
     "data": {
      "text/plain": [
       "{'up': 'down', 'right': 'abcd', 'true': 'false'}"
      ]
     },
     "execution_count": 19,
     "metadata": {},
     "output_type": "execute_result"
    }
   ],
   "source": [
    "acopy"
   ]
  },
  {
   "cell_type": "code",
   "execution_count": 21,
   "metadata": {},
   "outputs": [
    {
     "name": "stdout",
     "output_type": "stream",
     "text": [
      "4\n"
     ]
    }
   ],
   "source": [
    "medal_count = {'United States': 70, 'Great Britain':38, 'China':45, 'Russia':30, 'Germany':17, 'Italy':22, 'France': 22, 'Japan':26, 'Australia':22, 'South Korea':14, 'Hungary':12, 'Netherlands':10, 'Spain':5, 'New Zealand':8, 'Canada':13, 'Kazakhstan':8, 'Colombia':4, 'Switzerland':5, 'Belgium':4, 'Thailand':4, 'Croatia':3, 'Iran':3, 'Jamaica':3, 'South Africa':7, 'Sweden':6, 'Denmark':7, 'North Korea':6, 'Kenya':4, 'Brazil':7, 'Belarus':4, 'Cuba':5, 'Poland':4, 'Romania':4, 'Slovenia':3, 'Argentina':2, 'Bahrain':2, 'Slovakia':2, 'Vietnam':2, 'Czech Republic':6, 'Uzbekistan':5}\n",
    "\n",
    "belarus=medal_count.get(\"Belarus\")\n",
    "print(belarus)"
   ]
  },
  {
   "cell_type": "markdown",
   "metadata": {},
   "source": [
    "# Dictionary accumulation"
   ]
  },
  {
   "cell_type": "code",
   "execution_count": 22,
   "metadata": {},
   "outputs": [
    {
     "name": "stdout",
     "output_type": "stream",
     "text": [
      "t: 71 occurrences\n"
     ]
    }
   ],
   "source": [
    "f = open('F:\\\\olympicdata.txt', 'r')\n",
    "txt = f.read()\n",
    "# now txt is one long string containing all the characters\n",
    "t_count = 0 #initialize the accumulator variable\n",
    "for c in txt:\n",
    "    if c == 't':\n",
    "        t_count = t_count + 1   #increment the counter\n",
    "print(\"t: \" + str(t_count) + \" occurrences\")"
   ]
  },
  {
   "cell_type": "code",
   "execution_count": 23,
   "metadata": {},
   "outputs": [
    {
     "name": "stdout",
     "output_type": "stream",
     "text": [
      "t: 71 occurrences\n",
      "s: 31 occurrences\n"
     ]
    }
   ],
   "source": [
    "f = open('F:\\\\olympicdata.txt', 'r')\n",
    "txt = f.read()\n",
    "# now txt is one long string containing all the characters\n",
    "t_count = 0 #initialize the accumulator variable\n",
    "s_count = 0 # initialize the s counter accumulator as well\n",
    "for c in txt:\n",
    "    if c == 't':\n",
    "        t_count = t_count + 1   #increment the t counter\n",
    "    elif c == 's':\n",
    "        s_count = s_count + 1\n",
    "print(\"t: \" + str(t_count) + \" occurrences\")\n",
    "print(\"s: \" + str(s_count) + \" occurrences\")"
   ]
  },
  {
   "cell_type": "code",
   "execution_count": 24,
   "metadata": {},
   "outputs": [
    {
     "name": "stdout",
     "output_type": "stream",
     "text": [
      "t: 71 occurrences\n",
      "s: 31 occurrences\n"
     ]
    }
   ],
   "source": [
    "f = open('F:\\\\olympicdata.txt', 'r')\n",
    "txt = f.read()\n",
    "# now txt is one long string containing all the characters\n",
    "x = {} # start with an empty dictionary\n",
    "x['t'] = 0  # initialize the t counter\n",
    "x['s'] = 0  # initialize the s counter\n",
    "for c in txt:\n",
    "    if c == 't':\n",
    "        x['t'] = x['t'] + 1  # increment the t counter\n",
    "    elif c == 's':\n",
    "        x['s'] = x['s'] + 1  # increment the s counter\n",
    "\n",
    "print(\"t: \" + str(x['t']) + \" occurrences\")\n",
    "print(\"s: \" + str(x['s']) + \" occurrences\")\n"
   ]
  },
  {
   "cell_type": "code",
   "execution_count": 26,
   "metadata": {},
   "outputs": [
    {
     "name": "stdout",
     "output_type": "stream",
     "text": [
      "t: 71 occurrences\n",
      "s: 31 occurrences\n"
     ]
    }
   ],
   "source": [
    "f = open('F:\\\\olympicdata.txt', 'r')\n",
    "txt = f.read()\n",
    "# now txt is one long string containing all the characters\n",
    "x = {} # start with an empty dictionary\n",
    "x['t'] = 0  # intiialize the t counter\n",
    "x['s'] = 0  # initialize the s counter\n",
    "for c in txt:\n",
    "    if c == 't':\n",
    "        x[c] = x[c] + 1   # increment the t counter\n",
    "    elif c == 's':\n",
    "        x[c] = x[c] + 1   # increment the s counter\n",
    "\n",
    "print(\"t: \" + str(x['t']) + \" occurrences\")\n",
    "print(\"s: \" + str(x['s']) + \" occurrences\")"
   ]
  },
  {
   "cell_type": "code",
   "execution_count": 30,
   "metadata": {},
   "outputs": [
    {
     "name": "stdout",
     "output_type": "stream",
     "text": [
      "t: 71 occurrences\n",
      "s: 31 occurrences\n",
      "a: 97 occurrences\n",
      "b: 10 occurrences\n",
      "{'N': 30, 'a': 97, 'm': 14, 'e': 68, ',': 120, 'S': 25, 'x': 1, 'A': 52, 'g': 18, 'T': 4, 'E': 4, 'v': 1, 'n': 101, 't': 71, 'M': 20, 'd': 37, 'l': 49, '\\n': 23, ' ': 66, 'D': 3, 'i': 78, 'j': 2, '2': 12, '4': 5, 'C': 21, 'h': 18, 'B': 3, 's': 31, 'k': 17, 'b': 10, 'L': 2, 'u': 12, '3': 13, 'J': 9, 'o': 46, 'G': 2, 'r': 47, 'y': 9, 'F': 20, '/': 1, 'w': 2, '-': 5, 'O': 1, 'f': 5, 'W': 2, 'c': 9, '1': 7, 'p': 6, '5': 3, '7': 1, 'P': 3, 'K': 2, 'U': 4, '\"': 18, '(': 3, ')': 3, '8': 2, '6': 2, 'I': 2, 'H': 2, '0': 1, 'V': 1}\n"
     ]
    }
   ],
   "source": [
    "f = open('F:\\\\olympicdata.txt', 'r')\n",
    "txt = f.read()\n",
    "# now txt is one long string containing all the characters\n",
    "x = {} # start with an empty dictionary\n",
    "for c in txt:\n",
    "    if c not in x:\n",
    "        # we have not seen this character before, so initialize a counter for it\n",
    "        x[c] = 0\n",
    "\n",
    "    #whether we've seen it before or not, increment its counter\n",
    "    x[c] = x[c] + 1\n",
    "\n",
    "print(\"t: \" + str(x['t']) + \" occurrences\")\n",
    "print(\"s: \" + str(x['s']) + \" occurrences\")\n",
    "print(\"a: \" + str(x['a']) + \" occurrences\")\n",
    "print(\"b: \" + str(x['b']) + \" occurrences\")\n",
    "print(x)"
   ]
  },
  {
   "cell_type": "code",
   "execution_count": 31,
   "metadata": {},
   "outputs": [
    {
     "name": "stdout",
     "output_type": "stream",
     "text": [
      "N: 30 occurrences\n",
      "a: 97 occurrences\n",
      "m: 14 occurrences\n",
      "e: 68 occurrences\n",
      ",: 120 occurrences\n",
      "S: 25 occurrences\n",
      "x: 1 occurrences\n",
      "A: 52 occurrences\n",
      "g: 18 occurrences\n",
      "T: 4 occurrences\n",
      "E: 4 occurrences\n",
      "v: 1 occurrences\n",
      "n: 101 occurrences\n",
      "t: 71 occurrences\n",
      "M: 20 occurrences\n",
      "d: 37 occurrences\n",
      "l: 49 occurrences\n",
      "\n",
      ": 23 occurrences\n",
      " : 66 occurrences\n",
      "D: 3 occurrences\n",
      "i: 78 occurrences\n",
      "j: 2 occurrences\n",
      "2: 12 occurrences\n",
      "4: 5 occurrences\n",
      "C: 21 occurrences\n",
      "h: 18 occurrences\n",
      "B: 3 occurrences\n",
      "s: 31 occurrences\n",
      "k: 17 occurrences\n",
      "b: 10 occurrences\n",
      "L: 2 occurrences\n",
      "u: 12 occurrences\n",
      "3: 13 occurrences\n",
      "J: 9 occurrences\n",
      "o: 46 occurrences\n",
      "G: 2 occurrences\n",
      "r: 47 occurrences\n",
      "y: 9 occurrences\n",
      "F: 20 occurrences\n",
      "/: 1 occurrences\n",
      "w: 2 occurrences\n",
      "-: 5 occurrences\n",
      "O: 1 occurrences\n",
      "f: 5 occurrences\n",
      "W: 2 occurrences\n",
      "c: 9 occurrences\n",
      "1: 7 occurrences\n",
      "p: 6 occurrences\n",
      "5: 3 occurrences\n",
      "7: 1 occurrences\n",
      "P: 3 occurrences\n",
      "K: 2 occurrences\n",
      "U: 4 occurrences\n",
      "\": 18 occurrences\n",
      "(: 3 occurrences\n",
      "): 3 occurrences\n",
      "8: 2 occurrences\n",
      "6: 2 occurrences\n",
      "I: 2 occurrences\n",
      "H: 2 occurrences\n",
      "0: 1 occurrences\n",
      "V: 1 occurrences\n"
     ]
    }
   ],
   "source": [
    "f = open('F:\\\\olympicdata.txt', 'r')\n",
    "txt = f.read()\n",
    "letter_counts = {} # start with an empty dictionary\n",
    "for c in txt:\n",
    "    if c not in letter_counts:\n",
    "        # we have not seen this character before, so initialize a counter for it\n",
    "        letter_counts[c] = 0\n",
    "\n",
    "    #whether we've seen it before or not, increment its counter\n",
    "    letter_counts[c] = letter_counts[c] + 1\n",
    "\n",
    "for c in letter_counts.keys():\n",
    "    print(c + \": \" + str(letter_counts[c]) + \" occurrences\")"
   ]
  },
  {
   "cell_type": "code",
   "execution_count": 37,
   "metadata": {},
   "outputs": [
    {
     "name": "stdout",
     "output_type": "stream",
     "text": [
      "['The', 'dog', 'chased', 'the', 'rabbit', 'into', 'the', 'forest', 'but', 'the', 'rabbit', 'was', 'too', 'quick.']\n",
      "The -count is: 1\n",
      "dog -count is: 1\n",
      "chased -count is: 1\n",
      "the -count is: 3\n",
      "rabbit -count is: 2\n",
      "into -count is: 1\n",
      "forest -count is: 1\n",
      "but -count is: 1\n",
      "was -count is: 1\n",
      "too -count is: 1\n",
      "quick. -count is: 1\n"
     ]
    }
   ],
   "source": [
    "sentence = \"The dog chased the rabbit into the forest but the rabbit was too quick.\"\n",
    "\n",
    "words=sentence.split()\n",
    "word_counts={}\n",
    "for word in words:\n",
    "    if word not in word_counts:\n",
    "        word_counts[word]=0\n",
    "    word_counts[word]+=1\n",
    "print(words)\n",
    "for word in word_counts.keys():\n",
    "        print(word, \"-count is:\", word_counts[word])"
   ]
  },
  {
   "cell_type": "code",
   "execution_count": 38,
   "metadata": {},
   "outputs": [
    {
     "name": "stdout",
     "output_type": "stream",
     "text": [
      "{'w': 1, 'h': 1, 'a': 2, 't': 1, ' ': 3, 'c': 1, 'n': 1, 'I': 1, 'd': 1, 'o': 1}\n"
     ]
    }
   ],
   "source": [
    "stri = \"what can I do\"\n",
    "char_d={}\n",
    "for c in stri:\n",
    "    if c not in char_d:\n",
    "        char_d[c]=0\n",
    "    char_d[c]+=1\n",
    "print(char_d)"
   ]
  },
  {
   "cell_type": "code",
   "execution_count": 39,
   "metadata": {},
   "outputs": [
    {
     "name": "stdout",
     "output_type": "stream",
     "text": [
      "1076\n"
     ]
    }
   ],
   "source": [
    "f = open('F:\\\\olympicdata.txt', 'r')\n",
    "txt = f.read()\n",
    "# now txt is one long string containing all the characters\n",
    "x = {} # start with an empty dictionary\n",
    "for c in txt:\n",
    "    if c not in x:\n",
    "        # we have not seen this character before, so initialize a counter for it\n",
    "        x[c] = 0\n",
    "\n",
    "    #whether we've seen it before or not, increment its counter\n",
    "    x[c] = x[c] + 1\n",
    "\n",
    "letter_values = {'a': 1, 'b': 3, 'c': 3, 'd': 2, 'e': 1, 'f':4, 'g': 2, 'h':4, 'i':1, 'j':8, 'k':5, 'l':1, 'm':3, 'n':1, 'o':1, 'p':3, 'q':10, 'r':1, 's':1, 't':1, 'u':1, 'v':4, 'w':4, 'x':8, 'y':4, 'z':10}\n",
    "\n",
    "tot = 0\n",
    "for y in x:\n",
    "    if y in letter_values:\n",
    "        tot = tot + letter_values[y] * x[y]\n",
    "\n",
    "print(tot)"
   ]
  },
  {
   "cell_type": "code",
   "execution_count": 40,
   "metadata": {},
   "outputs": [
    {
     "name": "stdout",
     "output_type": "stream",
     "text": [
      "19\n"
     ]
    }
   ],
   "source": [
    "travel = {\"North America\": 2, \"Europe\": 8, \"South America\": 3, \"Asia\": 4, \"Africa\":1, \"Antarctica\": 0, \"Australia\": 1}\n",
    "total=sum(travel.values())\n",
    "print(total)"
   ]
  },
  {
   "cell_type": "markdown",
   "metadata": {},
   "source": [
    "Write a program that finds the key in a dictionary that has the maximum value. If two keys have the same maximum value, it’s OK to print out either one. Fill in the skeleton code\n",
    "\n"
   ]
  },
  {
   "cell_type": "code",
   "execution_count": 41,
   "metadata": {},
   "outputs": [
    {
     "name": "stdout",
     "output_type": "stream",
     "text": [
      "key e has the highest value, 312\n"
     ]
    }
   ],
   "source": [
    "d = {'a': 194, 'b': 54, 'c':34, 'd': 44, 'e': 312, 'full':31}\n",
    "\n",
    "ks = d.keys()\n",
    "best_key_so_far = list(ks)[0]  # Have to turn ks into a real list before using [] to select an item\n",
    "for k in ks:\n",
    "    if d[k] > d[best_key_so_far]:\n",
    "        best_key_so_far = k\n",
    "\n",
    "print(\"key \" + best_key_so_far + \" has the highest value, \" + str(d[best_key_so_far]))\n"
   ]
  },
  {
   "cell_type": "code",
   "execution_count": 43,
   "metadata": {},
   "outputs": [
    {
     "name": "stdout",
     "output_type": "stream",
     "text": [
      "{'B': 2, 'e': 17, 'a': 12, 'c': 8, 'h': 4, 's': 10, ' ': 27, 'r': 7, 'o': 10, 'l': 8, 'p': 6, 't': 8, 'v': 3, 'i': 13, 'n': 7, 'g': 2, 'w': 3, 'M': 3, 'k': 2, 'd': 2, '.': 2, 'x': 1} \n",
      "\n",
      "min_value key is  x occurs 1 times\n"
     ]
    }
   ],
   "source": [
    "placement = \"Beaches are cool places to visit in spring however the Mackinaw Bridge is near. Most people visit Mackinaw later since the island is a cool place to explore.\"\n",
    "\n",
    "d={}\n",
    "for c in placement:\n",
    "    if c not in d:\n",
    "        d[c]=0\n",
    "    d[c]+=1\n",
    "ks=d.keys()\n",
    "min_value=list(ks)[0]\n",
    "for key in d:\n",
    "    if d[key]<d[min_value]:\n",
    "        min_value=key\n",
    "print(d,\"\\n\")\n",
    "print(\"min_value key is \",min_value,\"occurs\",d[min_value],\"times\")\n"
   ]
  },
  {
   "cell_type": "code",
   "execution_count": 44,
   "metadata": {},
   "outputs": [
    {
     "name": "stdout",
     "output_type": "stream",
     "text": [
      "max occured key is ' n ' at 4 times\n"
     ]
    }
   ],
   "source": [
    "product = \"iphone and android phones\"\n",
    "lett_d={}\n",
    "for c in product:\n",
    "    if c not in lett_d:\n",
    "        lett_d[c]=0\n",
    "    lett_d[c]+=1\n",
    "ks=lett_d.keys()\n",
    "max_value=list(ks)[0]\n",
    "for k in lett_d:\n",
    "    if lett_d[k]>lett_d[max_value]:\n",
    "        max_value=k\n",
    "print(\"max occured key is '\",max_value,\"' at\",lett_d[max_value],\"times\")"
   ]
  },
  {
   "cell_type": "markdown",
   "metadata": {},
   "source": [
    "# When to use a dictionary¶\n",
    "Now that you have experience using lists and dictionaries, you will have to decide which one is best to use in each situation. The following guidelines will help you recognize when a dictionary will be beneficial:\n",
    "\n",
    "When a piece of data consists of a set of properties of a single item, a dictionary is often better. You could try to keep track mentally that the zip code property is at index 2 in a list, but your code will be easier to read and you will make fewer mistakes if you can look up mydiction[‘zipcode’] than if you look up mylst[2].\n",
    "\n",
    "When you have a collection of data pairs, and you will often have to look up one of the pairs based on its first value, it is better to use a dictionary than a list of (key, value) tuples. With a dictionary, you can find the value for any (key, value) tuple by looking up the key. With a list of tuples you would need to iterate through the list, examining each pair to see if it had the key that you want.\n",
    "\n",
    "On the other hand, if you will have a collection of data pairs where multiple pairs share the same first data element, then you can’t use a dictionary, because a dictionary requires all the keys to be distinct from each other"
   ]
  },
  {
   "cell_type": "markdown",
   "metadata": {},
   "source": [
    "# TEST PRACTICE"
   ]
  },
  {
   "cell_type": "markdown",
   "metadata": {},
   "source": [
    "The dictionary Junior shows a schedule for a junior year semester. The key is the course name and the value is the number of credits. Find the total number of credits taken this semester and assign it to the variable credits. Do not hardcode this – use dictionary accumulation!"
   ]
  },
  {
   "cell_type": "code",
   "execution_count": 45,
   "metadata": {},
   "outputs": [
    {
     "name": "stdout",
     "output_type": "stream",
     "text": [
      "18\n"
     ]
    }
   ],
   "source": [
    "Junior = {'SI 206':4, 'SI 310':4, 'BL 300':3, 'TO 313':3, 'BCOM 350':1, 'MO 300':3}\n",
    "credits=sum(Junior.values())\n",
    "print(credits)"
   ]
  },
  {
   "cell_type": "markdown",
   "metadata": {},
   "source": [
    "Create a dictionary, freq, that displays each character in string str1 as the key and its frequency as the value."
   ]
  },
  {
   "cell_type": "code",
   "execution_count": 47,
   "metadata": {},
   "outputs": [
    {
     "name": "stdout",
     "output_type": "stream",
     "text": [
      "p : 9\n",
      "e : 8\n",
      "t : 1\n",
      "r : 3\n",
      "  : 7\n",
      "i : 3\n",
      "c : 3\n",
      "k : 3\n",
      "d : 2\n",
      "a : 1\n",
      "o : 1\n",
      "f : 1\n",
      "l : 1\n",
      "s : 1\n"
     ]
    }
   ],
   "source": [
    "str1 = \"peter piper picked a peck of pickled peppers\"\n",
    "freq={}\n",
    "for c in str1:\n",
    "    if c not in freq:\n",
    "        freq[c]=0\n",
    "    freq[c]+=1\n",
    "\n",
    "for key in freq:\n",
    "    print(key,\":\",freq[key])"
   ]
  },
  {
   "cell_type": "markdown",
   "metadata": {},
   "source": [
    "Provided is a string saved to the variable name s1. Create a dictionary named counts that contains each letter in s1 and the number of times it occurs."
   ]
  },
  {
   "cell_type": "code",
   "execution_count": 49,
   "metadata": {},
   "outputs": [
    {
     "name": "stdout",
     "output_type": "stream",
     "text": [
      "{'h': 1, 'e': 1, 'l': 2, 'o': 1}\n"
     ]
    }
   ],
   "source": [
    "s1 = \"hello\"\n",
    "counts={}\n",
    "for c in s1:\n",
    "    if c not in counts:\n",
    "        counts[c]=0\n",
    "    counts[c]+=1\n",
    "print(counts)"
   ]
  },
  {
   "cell_type": "markdown",
   "metadata": {},
   "source": [
    "Create a dictionary, freq_words, that contains each word in string str1 as the key and its frequency as the value."
   ]
  },
  {
   "cell_type": "code",
   "execution_count": 51,
   "metadata": {},
   "outputs": [
    {
     "name": "stdout",
     "output_type": "stream",
     "text": [
      "I : 2\n",
      "wish : 2\n",
      "with : 2\n",
      "all : 1\n",
      "my : 1\n",
      "heart : 1\n",
      "to : 1\n",
      "fly : 1\n",
      "dragons : 1\n",
      "in : 1\n",
      "a : 1\n",
      "land : 1\n",
      "apart : 1\n"
     ]
    }
   ],
   "source": [
    "str1 = \"I wish I wish with all my heart to fly with dragons in a land apart\"\n",
    "words=str1.split()\n",
    "freq_words={}\n",
    "for word in words:\n",
    "    if word not in freq_words:\n",
    "        freq_words[word]=0\n",
    "    freq_words[word]+=1\n",
    "for key in freq_words:\n",
    "    print(key,\":\",freq_words[key])"
   ]
  },
  {
   "cell_type": "markdown",
   "metadata": {},
   "source": [
    "Create the dictionary characters that shows each character from the string sally and its frequency. Then, find the most frequent letter based on the dictionary. Assign this letter to the variable best_char."
   ]
  },
  {
   "cell_type": "code",
   "execution_count": 54,
   "metadata": {},
   "outputs": [
    {
     "name": "stdout",
     "output_type": "stream",
     "text": [
      "most freqvent character is :' s ',freqvancy is  8\n"
     ]
    }
   ],
   "source": [
    "sally = \"sally sells sea shells by the sea shore\"\n",
    "\n",
    "characters={}\n",
    "for c in sally:\n",
    "    if c not in characters:\n",
    "        characters[c]=0\n",
    "    characters[c]+=1\n",
    "    \n",
    " #### max freq word\n",
    "ks=characters.keys()\n",
    "best_char=list(ks)[0]\n",
    "for key in characters:\n",
    "    if characters[key]>characters[best_char]:\n",
    "        best_char=key\n",
    "print(\"most freqvent character is :'\",best_char,\"',freqvancy is \",characters[best_char])"
   ]
  },
  {
   "cell_type": "markdown",
   "metadata": {},
   "source": [
    "Create a dictionary named letter_counts that contains each letter and the number of times it occurs in string1. Challenge: Letters should not be counted separately as upper-case and lower-case. Intead, all of them should be counted as lower-case."
   ]
  },
  {
   "cell_type": "code",
   "execution_count": 57,
   "metadata": {},
   "outputs": [
    {
     "name": "stdout",
     "output_type": "stream",
     "text": [
      "there is a tide in the affairs of men, which taken at the flood, leads on to fortune. omitted, all the voyage of their life is bound in shallows and in miseries. on such a full sea are we now afloat. and we must take the current when it serves, or lose our ventures.\n",
      "{'t': 19, 'h': 11, 'e': 29, 'r': 12, ' ': 53, 'i': 14, 's': 15, 'a': 17, 'd': 7, 'n': 15, 'f': 9, 'o': 17, 'm': 4, ',': 4, 'w': 6, 'c': 3, 'k': 2, 'l': 11, 'u': 8, '.': 4, 'v': 3, 'y': 1, 'g': 1, 'b': 1}\n"
     ]
    }
   ],
   "source": [
    "string1 = \"There is a tide in the affairs of men, Which taken at the flood, leads on to fortune. Omitted, all the voyage of their life is bound in shallows and in miseries. On such a full sea are we now afloat. And we must take the current when it serves, or lose our ventures.\"\n",
    "\n",
    "str=string1.lower()\n",
    "print(str)\n",
    "letter_counts={}\n",
    "for c in str:\n",
    "    if c not in letter_counts:\n",
    "        letter_counts[c]=0\n",
    "    letter_counts[c]+=1\n",
    "\n",
    "print(letter_counts)"
   ]
  },
  {
   "cell_type": "code",
   "execution_count": null,
   "metadata": {},
   "outputs": [],
   "source": []
  }
 ],
 "metadata": {
  "kernelspec": {
   "display_name": "Python 3",
   "language": "python",
   "name": "python3"
  },
  "language_info": {
   "codemirror_mode": {
    "name": "ipython",
    "version": 3
   },
   "file_extension": ".py",
   "mimetype": "text/x-python",
   "name": "python",
   "nbconvert_exporter": "python",
   "pygments_lexer": "ipython3",
   "version": "3.7.7"
  }
 },
 "nbformat": 4,
 "nbformat_minor": 4
}
